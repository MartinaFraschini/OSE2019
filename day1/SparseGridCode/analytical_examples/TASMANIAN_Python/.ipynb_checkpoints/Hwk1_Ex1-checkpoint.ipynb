{
 "cells": [
  {
   "cell_type": "markdown",
   "metadata": {},
   "source": [
    "# Day 1 - Sparse grids\n",
    "\n",
    "## Homework 1 - Exercise 1\n",
    "\n",
    "Author: Martina Fraschini"
   ]
  },
  {
   "cell_type": "code",
   "execution_count": 46,
   "metadata": {
    "collapsed": true
   },
   "outputs": [],
   "source": [
    "# import packages\n",
    "import TasmanianSG\n",
    "import numpy as np\n",
    "import math\n",
    "from random import uniform\n",
    "from matplotlib import pyplot as plt"
   ]
  },
  {
   "cell_type": "code",
   "execution_count": 52,
   "metadata": {
    "collapsed": true
   },
   "outputs": [],
   "source": [
    "# define function for interpolation with non-adaptive sparse grids\n",
    "def nonadaptive(dd, out, lev, basis, w1, cdd):\n",
    "    # create an empty grid instance\n",
    "    grid = TasmanianSG.TasmanianSparseGrid()\n",
    "    \n",
    "    # construct sparse grid\n",
    "    grid.makeLocalPolynomialGrid(dd, out, lev, basis, \"localp\")\n",
    "    aPoints = grid.getPoints()\n",
    "    iNumP1 = aPoints.shape[0]\n",
    "    aVals = np.empty([iNumP1,out])\n",
    "    args = [w1, cdd, aPoints, aVals]\n",
    "    aVals = oscillatory(args)\n",
    "    grid.loadNeededPoints(aVals)\n",
    "    \n",
    "    return grid, iNumP1\n"
   ]
  },
  {
   "cell_type": "code",
   "execution_count": 53,
   "metadata": {
    "collapsed": false
   },
   "outputs": [],
   "source": [
    "# define function for interpolation with adaptive sparse grids\n",
    "def adaptive(dd, out, lev, reflev, tol, basis, w1, cdd):\n",
    "    # construct sparse grid (non-adaptive)\n",
    "    grid, NumP = nonadaptive(dd, out, lev, basis, w1, cdd)\n",
    "    \n",
    "    #refinement level\n",
    "    for iK in range(reflev):\n",
    "        grid.setSurplusRefinement(tol, 1, \"fds\")\n",
    "        aPoints = grid.getNeededPoints()\n",
    "        iNumP1 = aPoints.shape[0]\n",
    "        aVals = np.empty([iNumP1,out])\n",
    "        args = [w1, cdd, aPoints, aVals]\n",
    "        aVals = oscillatory(args)\n",
    "        grid.loadNeededPoints(aVals)\n",
    "        \n",
    "        return grid, iNumP1\n"
   ]
  },
  {
   "cell_type": "code",
   "execution_count": 54,
   "metadata": {
    "collapsed": true
   },
   "outputs": [],
   "source": [
    "# define function to compute max error\n",
    "def maxerr(grid, aPnts, aTres):\n",
    "    aRes = grid.evaluateBatch(aPnts)\n",
    "    err = max(np.fabs(aRes[:,0] - aTres))\n",
    "    return err"
   ]
  },
  {
   "cell_type": "code",
   "execution_count": 59,
   "metadata": {
    "collapsed": false
   },
   "outputs": [],
   "source": [
    "# define function to approximate:\n",
    "def oscillatory(args):\n",
    "    w1, cdd, points, aTres = args\n",
    "    NN = points.shape[0]\n",
    "    for iI in range(NN):\n",
    "        res = 2 * math.pi * w1\n",
    "        for iJ in range(dd):\n",
    "            res += cdd[iJ] * points[iI][iJ]\n",
    "        aTres[iI] = math.cos(res)\n",
    "        \n",
    "    return aTres\n"
   ]
  },
  {
   "cell_type": "code",
   "execution_count": 65,
   "metadata": {
    "collapsed": false
   },
   "outputs": [
    {
     "data": {
      "image/png": "[encoded data removed]",
      "text/plain": [
       "<Figure size 432x288 with 1 Axes>"
      ]
     },
     "metadata": {},
     "output_type": "display_data"
    }
   ],
   "source": [
    "# define parameters\n",
    "dd = 2    # dimension\n",
    "NN = 1000    # number of test points\n",
    "w1 = uniform(-1.0, 1.0)    # construction of w1\n",
    "cdd = np.empty(dd)    # construction of vector of c values\n",
    "for iJ in range(dd):\n",
    "    cdd[iJ] = uniform(-1.0, 1.0)\n",
    "\n",
    "out = 1    # number of outputs for grid\n",
    "lev = 5    # number of levels for sparse grid\n",
    "basis = 1    #1= linear basis functions\n",
    "reflev = 15    # refinement level for adaptive sparse grid\n",
    "tol2 = 1.E-0    # tolerance criterion for adaptive sparse grid\n",
    "tol3 = 1.E-1\n",
    "tol4 = 1.E-2\n",
    "\n",
    "function = lambda x: oscillatory(x)\n",
    "\n",
    "# 1000 \"dim\"-dimensional sample points\n",
    "aPnts = np.empty([NN, dd])\n",
    "for iI in range(NN):\n",
    "    for iJ in range(dd):\n",
    "        aPnts[iI][iJ] = uniform(-1.0, 1.0)\n",
    "\n",
    "# values of function at sample points\n",
    "aTres = np.empty([NN,])\n",
    "args = [w1, cdd, aPnts, aTres]\n",
    "aTres = function(args)\n",
    "\n",
    "NumPts1 = np.empty([lev,])\n",
    "NumPts2 = np.empty([lev,])\n",
    "NumPts3 = np.empty([lev,])\n",
    "NumPts4 = np.empty([lev,])\n",
    "err1 = np.empty([lev,])\n",
    "err2 = np.empty([lev,])\n",
    "err3 = np.empty([lev,])\n",
    "err4 = np.empty([lev,])\n",
    "for ll in range(lev):\n",
    "    grid1, NumPts1[ll] = nonadaptive(dd, out, ll+1, basis, w1, cdd)\n",
    "    err1[ll] = maxerr(grid1, aPnts, aTres)\n",
    "    grid2, NumPts2[ll] = adaptive(dd, out, ll+1, reflev, tol2, basis, w1, cdd)\n",
    "    err2[ll] = maxerr(grid2, aPnts, aTres)\n",
    "    grid3, NumPts3[ll] = adaptive(dd, out, ll+1, reflev, tol3, basis, w1, cdd)\n",
    "    err3[ll] = maxerr(grid2, aPnts, aTres)\n",
    "    grid3, NumPts3[ll] = adaptive(dd, out, ll+1, reflev, tol4, basis, w1, cdd)\n",
    "    err3[ll] = maxerr(grid2, aPnts, aTres)\n",
    "\n",
    "plt.plot(NumPts1, err1, 'x--', label='SG')\n",
    "plt.plot(NumPts2, err2, 'o--', label='ASG - tol = {}'.format(tol2))\n",
    "plt.plot(NumPts2, err2, 'o--', label='ASG - tol = {}'.format(tol3))\n",
    "plt.plot(NumPts2, err2, 'o--', label='ASG - tol = {}'.format(tol4))\n",
    "plt.xlabel(\"# points\")\n",
    "plt.ylabel(\"Max error\")\n",
    "plt.title(\"Convergence\")\n",
    "plt.show()"
   ]
  },
  {
   "cell_type": "code",
   "execution_count": null,
   "metadata": {
    "collapsed": false
   },
   "outputs": [],
   "source": []
  },
  {
   "cell_type": "code",
   "execution_count": null,
   "metadata": {
    "collapsed": false
   },
   "outputs": [],
   "source": []
  },
  {
   "cell_type": "code",
   "execution_count": null,
   "metadata": {
    "collapsed": true
   },
   "outputs": [],
   "source": []
  }
 ],
 "metadata": {
  "kernelspec": {
   "display_name": "Python 2",
   "language": "python",
   "name": "python2"
  },
  "language_info": {
   "codemirror_mode": {
    "name": "ipython",
    "version": 2
   },
   "file_extension": ".py",
   "mimetype": "text/x-python",
   "name": "python",
   "nbconvert_exporter": "python",
   "pygments_lexer": "ipython2",
   "version": "2.7.12"
  }
 },
 "nbformat": 4,
 "nbformat_minor": 2
}
