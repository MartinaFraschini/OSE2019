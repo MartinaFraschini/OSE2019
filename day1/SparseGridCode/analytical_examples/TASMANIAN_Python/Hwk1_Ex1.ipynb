{
 "cells": [
  {
   "cell_type": "markdown",
   "metadata": {},
   "source": [
    "# Day 1 - Sparse grids\n",
    "\n",
    "## Homework 1 - Exercise 1\n",
    "\n",
    "Author: Martina Fraschini"
   ]
  },
  {
   "cell_type": "code",
   "execution_count": 15,
   "metadata": {
    "collapsed": true
   },
   "outputs": [],
   "source": [
    "# import packages\n",
    "import TasmanianSG\n",
    "import numpy as np\n",
    "import math\n",
    "from random import uniform\n",
    "from matplotlib import pyplot as plt"
   ]
  },
  {
   "cell_type": "code",
   "execution_count": 21,
   "metadata": {
    "collapsed": true
   },
   "outputs": [],
   "source": [
    "# define function for interpolation with non-adaptive sparse grids\n",
    "def nonadaptive(dd, out, lev, basis, w1, cdd):\n",
    "    # create an empty grid instance\n",
    "    grid = TasmanianSG.TasmanianSparseGrid()\n",
    "    \n",
    "    # construct sparse grid\n",
    "    grid.makeLocalPolynomialGrid(dd, out, lev, basis, \"localp\")\n",
    "    aPoints = grid.getPoints()\n",
    "    iNumP1 = aPoints.shape[0]\n",
    "    aVals = np.empty([iNumP1,out])\n",
    "    args = [w1, cdd, aPoints, aVals]\n",
    "    aVals = oscillatory(args)\n",
    "    grid.loadNeededPoints(aVals)\n",
    "    \n",
    "    return grid, iNumP1\n"
   ]
  },
  {
   "cell_type": "code",
   "execution_count": 22,
   "metadata": {
    "collapsed": false
   },
   "outputs": [],
   "source": [
    "# define function for interpolation with adaptive sparse grids\n",
    "def adaptive(dd, out, lev, reflev, tol, basis, w1, cdd):\n",
    "    # construct sparse grid (non-adaptive)\n",
    "    grid, NumP = nonadaptive(dd, out, lev, basis, w1, cdd)\n",
    "    \n",
    "    #refinement level\n",
    "    for iK in range(reflev):\n",
    "        grid.setSurplusRefinement(tol, 1, \"fds\")\n",
    "        aPoints = grid.getNeededPoints()\n",
    "        iNumP1 = aPoints.shape[0]\n",
    "        aVals = np.empty([iNumP1,out])\n",
    "        args = [w1, cdd, aPoints, aVals]\n",
    "        aVals = oscillatory(args)\n",
    "        grid.loadNeededPoints(aVals)\n",
    "        \n",
    "        return grid, iNumP1\n"
   ]
  },
  {
   "cell_type": "code",
   "execution_count": 4,
   "metadata": {
    "collapsed": true
   },
   "outputs": [],
   "source": [
    "# define function to compute max error\n",
    "def maxerr(grid, aPnts, aTres):\n",
    "    aRes = grid.evaluateBatch(aPnts)\n",
    "    err = max(np.fabs(aRes[:,0] - aTres))\n",
    "    return err"
   ]
  },
  {
   "cell_type": "code",
   "execution_count": 5,
   "metadata": {
    "collapsed": false
   },
   "outputs": [],
   "source": [
    "# define function to approximate:\n",
    "def oscillatory(args):\n",
    "    w1, cdd, points, aTres = args\n",
    "    NN = points.shape[0]\n",
    "    for iI in range(NN):\n",
    "        res = 2 * math.pi * w1\n",
    "        for iJ in range(dd):\n",
    "            res += cdd[iJ] * points[iI][iJ]\n",
    "        aTres[iI] = math.cos(res)\n",
    "        \n",
    "    return aTres\n"
   ]
  },
  {
   "cell_type": "code",
   "execution_count": 20,
   "metadata": {
    "collapsed": false,
    "scrolled": true
   },
   "outputs": [
    {
     "ename": "AttributeError",
     "evalue": "TasmanianSparseGrid instance has no attribute 'plotPoints3D'",
     "output_type": "error",
     "traceback": [
      "\u001b[0;31m---------------------------------------------------------------------------\u001b[0m",
      "\u001b[0;31mAttributeError\u001b[0m                            Traceback (most recent call last)",
      "\u001b[0;32m<ipython-input-20-7b07fc0e4c2c>\u001b[0m in \u001b[0;36m<module>\u001b[0;34m()\u001b[0m\n\u001b[1;32m     37\u001b[0m \u001b[0merr4\u001b[0m \u001b[0;34m=\u001b[0m \u001b[0mnp\u001b[0m\u001b[0;34m.\u001b[0m\u001b[0mempty\u001b[0m\u001b[0;34m(\u001b[0m\u001b[0;34m[\u001b[0m\u001b[0mlev\u001b[0m\u001b[0;34m,\u001b[0m\u001b[0;34m]\u001b[0m\u001b[0;34m)\u001b[0m\u001b[0;34m\u001b[0m\u001b[0m\n\u001b[1;32m     38\u001b[0m \u001b[0;32mfor\u001b[0m \u001b[0mll\u001b[0m \u001b[0;32min\u001b[0m \u001b[0mrange\u001b[0m\u001b[0;34m(\u001b[0m\u001b[0mlev\u001b[0m\u001b[0;34m)\u001b[0m\u001b[0;34m:\u001b[0m\u001b[0;34m\u001b[0m\u001b[0m\n\u001b[0;32m---> 39\u001b[0;31m     \u001b[0mgrid1\u001b[0m\u001b[0;34m,\u001b[0m \u001b[0mNumPts1\u001b[0m\u001b[0;34m[\u001b[0m\u001b[0mll\u001b[0m\u001b[0;34m]\u001b[0m \u001b[0;34m=\u001b[0m \u001b[0mnonadaptive\u001b[0m\u001b[0;34m(\u001b[0m\u001b[0mdd\u001b[0m\u001b[0;34m,\u001b[0m \u001b[0mout\u001b[0m\u001b[0;34m,\u001b[0m \u001b[0mll\u001b[0m\u001b[0;34m+\u001b[0m\u001b[0;36m1\u001b[0m\u001b[0;34m,\u001b[0m \u001b[0mbasis\u001b[0m\u001b[0;34m,\u001b[0m \u001b[0mw1\u001b[0m\u001b[0;34m,\u001b[0m \u001b[0mcdd\u001b[0m\u001b[0;34m)\u001b[0m\u001b[0;34m\u001b[0m\u001b[0m\n\u001b[0m\u001b[1;32m     40\u001b[0m     \u001b[0merr1\u001b[0m\u001b[0;34m[\u001b[0m\u001b[0mll\u001b[0m\u001b[0;34m]\u001b[0m \u001b[0;34m=\u001b[0m \u001b[0mmaxerr\u001b[0m\u001b[0;34m(\u001b[0m\u001b[0mgrid1\u001b[0m\u001b[0;34m,\u001b[0m \u001b[0maPnts\u001b[0m\u001b[0;34m,\u001b[0m \u001b[0maTres\u001b[0m\u001b[0;34m)\u001b[0m\u001b[0;34m\u001b[0m\u001b[0m\n\u001b[1;32m     41\u001b[0m     \u001b[0mgrid2\u001b[0m\u001b[0;34m,\u001b[0m \u001b[0mNumPts2\u001b[0m\u001b[0;34m[\u001b[0m\u001b[0mll\u001b[0m\u001b[0;34m]\u001b[0m \u001b[0;34m=\u001b[0m \u001b[0madaptive\u001b[0m\u001b[0;34m(\u001b[0m\u001b[0mdd\u001b[0m\u001b[0;34m,\u001b[0m \u001b[0mout\u001b[0m\u001b[0;34m,\u001b[0m \u001b[0mll\u001b[0m\u001b[0;34m+\u001b[0m\u001b[0;36m1\u001b[0m\u001b[0;34m,\u001b[0m \u001b[0mreflev\u001b[0m\u001b[0;34m,\u001b[0m \u001b[0mtol2\u001b[0m\u001b[0;34m,\u001b[0m \u001b[0mbasis\u001b[0m\u001b[0;34m,\u001b[0m \u001b[0mw1\u001b[0m\u001b[0;34m,\u001b[0m \u001b[0mcdd\u001b[0m\u001b[0;34m)\u001b[0m\u001b[0;34m\u001b[0m\u001b[0m\n",
      "\u001b[0;32m<ipython-input-18-629c6686cddd>\u001b[0m in \u001b[0;36mnonadaptive\u001b[0;34m(dd, out, lev, basis, w1, cdd)\u001b[0m\n\u001b[1;32m      8\u001b[0m     \u001b[0maPoints\u001b[0m \u001b[0;34m=\u001b[0m \u001b[0mgrid\u001b[0m\u001b[0;34m.\u001b[0m\u001b[0mgetPoints\u001b[0m\u001b[0;34m(\u001b[0m\u001b[0;34m)\u001b[0m\u001b[0;34m\u001b[0m\u001b[0m\n\u001b[1;32m      9\u001b[0m     \u001b[0miNumP1\u001b[0m \u001b[0;34m=\u001b[0m \u001b[0maPoints\u001b[0m\u001b[0;34m.\u001b[0m\u001b[0mshape\u001b[0m\u001b[0;34m[\u001b[0m\u001b[0;36m0\u001b[0m\u001b[0;34m]\u001b[0m\u001b[0;34m\u001b[0m\u001b[0m\n\u001b[0;32m---> 10\u001b[0;31m     \u001b[0mgrid\u001b[0m\u001b[0;34m.\u001b[0m\u001b[0mplotPoints3D\u001b[0m\u001b[0;34m(\u001b[0m\u001b[0;34m)\u001b[0m\u001b[0;34m\u001b[0m\u001b[0m\n\u001b[0m\u001b[1;32m     11\u001b[0m     \u001b[0mplt\u001b[0m\u001b[0;34m.\u001b[0m\u001b[0mshow\u001b[0m\u001b[0;34m(\u001b[0m\u001b[0;34m)\u001b[0m\u001b[0;34m\u001b[0m\u001b[0m\n\u001b[1;32m     12\u001b[0m     \u001b[0msys\u001b[0m\u001b[0;34m.\u001b[0m\u001b[0mexit\u001b[0m\u001b[0;34m(\u001b[0m\u001b[0;34m)\u001b[0m\u001b[0;34m\u001b[0m\u001b[0m\n",
      "\u001b[0;31mAttributeError\u001b[0m: TasmanianSparseGrid instance has no attribute 'plotPoints3D'"
     ]
    }
   ],
   "source": [
    "# define parameters\n",
    "dd = 2    # dimension\n",
    "NN = 1000    # number of test points\n",
    "w1 = uniform(-1.0, 1.0)    # construction of w1\n",
    "cdd = np.empty(dd)    # construction of vector of c values\n",
    "for iJ in range(dd):\n",
    "    cdd[iJ] = uniform(-1.0, 1.0)\n",
    "\n",
    "out = 1    # number of outputs for grid\n",
    "lev = 5    # number of levels for sparse grid\n",
    "basis = 1    #1= linear basis functions\n",
    "reflev = 15    # refinement level for adaptive sparse grid\n",
    "tol2 = 1.E-0    # tolerance criterion for adaptive sparse grid\n",
    "tol3 = 1.E-1\n",
    "tol4 = 1.E-2\n",
    "\n",
    "function = lambda x: oscillatory(x)\n",
    "\n",
    "# 1000 \"dim\"-dimensional sample points\n",
    "aPnts = np.empty([NN, dd])\n",
    "for iI in range(NN):\n",
    "    for iJ in range(dd):\n",
    "        aPnts[iI][iJ] = uniform(-1.0, 1.0)\n",
    "\n",
    "# values of function at sample points\n",
    "aTres = np.empty([NN,])\n",
    "args = [w1, cdd, aPnts, aTres]\n",
    "aTres = function(args)\n",
    "\n",
    "NumPts1 = np.empty([lev,])\n",
    "NumPts2 = np.empty([lev,])\n",
    "NumPts3 = np.empty([lev,])\n",
    "NumPts4 = np.empty([lev,])\n",
    "err1 = np.empty([lev,])\n",
    "err2 = np.empty([lev,])\n",
    "err3 = np.empty([lev,])\n",
    "err4 = np.empty([lev,])\n",
    "for ll in range(lev):\n",
    "    grid1, NumPts1[ll] = nonadaptive(dd, out, ll+1, basis, w1, cdd)\n",
    "    err1[ll] = maxerr(grid1, aPnts, aTres)\n",
    "    grid2, NumPts2[ll] = adaptive(dd, out, ll+1, reflev, tol2, basis, w1, cdd)\n",
    "    err2[ll] = maxerr(grid2, aPnts, aTres)\n",
    "    grid3, NumPts3[ll] = adaptive(dd, out, ll+1, reflev, tol3, basis, w1, cdd)\n",
    "    err3[ll] = maxerr(grid2, aPnts, aTres)\n",
    "    grid4, NumPts4[ll] = adaptive(dd, out, ll+1, reflev, tol4, basis, w1, cdd)\n",
    "    err4[ll] = maxerr(grid2, aPnts, aTres)\n",
    "\n",
    "plt.plot(NumPts1, err1, 'x--', label='SG')\n",
    "plt.plot(NumPts2, err2, 'o--', label='ASG - tol = {}'.format(tol2))\n",
    "plt.plot(NumPts3, err3, 'o--', label='ASG - tol = {}'.format(tol3))\n",
    "plt.plot(NumPts4, err4, 'o--', label='ASG - tol = {}'.format(tol4))\n",
    "plt.xlabel(\"# points\")\n",
    "plt.ylabel(\"Max error\")\n",
    "plt.title(\"Convergence\")\n",
    "plt.show()"
   ]
  },
  {
   "cell_type": "code",
   "execution_count": 7,
   "metadata": {
    "collapsed": false
   },
   "outputs": [
    {
     "data": {
      "image/png": "[encoded data removed]",
      "text/plain": [
       "<Figure size 432x288 with 1 Axes>"
      ]
     },
     "metadata": {},
     "output_type": "display_data"
    }
   ],
   "source": [
    "grid1.plotPoints2D()\n",
    "plt.show()"
   ]
  },
  {
   "cell_type": "code",
   "execution_count": 8,
   "metadata": {
    "collapsed": false
   },
   "outputs": [
    {
     "data": {
      "image/png": "[encoded data removed]",
      "text/plain": [
       "<Figure size 432x288 with 1 Axes>"
      ]
     },
     "metadata": {},
     "output_type": "display_data"
    }
   ],
   "source": [
    "grid2.plotPoints2D()\n",
    "plt.show()"
   ]
  },
  {
   "cell_type": "code",
   "execution_count": 9,
   "metadata": {
    "collapsed": false
   },
   "outputs": [
    {
     "data": {
      "image/png": "[encoded data removed]",
      "text/plain": [
       "<Figure size 432x288 with 1 Axes>"
      ]
     },
     "metadata": {},
     "output_type": "display_data"
    }
   ],
   "source": [
    "grid3.plotPoints2D()\n",
    "plt.show()"
   ]
  },
  {
   "cell_type": "code",
   "execution_count": 10,
   "metadata": {
    "collapsed": false
   },
   "outputs": [
    {
     "data": {
      "image/png": "[encoded data removed]",
      "text/plain": [
       "<Figure size 432x288 with 1 Axes>"
      ]
     },
     "metadata": {},
     "output_type": "display_data"
    }
   ],
   "source": [
    "grid4.plotPoints2D()\n",
    "plt.show()"
   ]
  },
  {
   "cell_type": "code",
   "execution_count": null,
   "metadata": {
    "collapsed": true
   },
   "outputs": [],
   "source": []
  }
 ],
 "metadata": {
  "kernelspec": {
   "display_name": "Python 2",
   "language": "python",
   "name": "python2"
  },
  "language_info": {
   "codemirror_mode": {
    "name": "ipython",
    "version": 2
   },
   "file_extension": ".py",
   "mimetype": "text/x-python",
   "name": "python",
   "nbconvert_exporter": "python",
   "pygments_lexer": "ipython2",
   "version": "2.7.12"
  }
 },
 "nbformat": 4,
 "nbformat_minor": 2
}
